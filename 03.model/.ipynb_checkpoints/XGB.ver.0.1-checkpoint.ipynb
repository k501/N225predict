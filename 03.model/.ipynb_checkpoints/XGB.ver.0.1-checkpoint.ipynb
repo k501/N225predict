{
 "cells": [
  {
   "cell_type": "markdown",
   "metadata": {},
   "source": [
    "# XGB"
   ]
  },
  {
   "cell_type": "code",
   "execution_count": 1,
   "metadata": {
    "collapsed": true
   },
   "outputs": [],
   "source": [
    "import tensorflow as tf\n",
    "import numpy as np\n",
    "import matplotlib.pyplot as plt\n",
    "from numpy.random import multivariate_normal, permutation\n",
    "import pandas as pd\n",
    "from pandas import DataFrame, Series\n",
    "from sklearn.model_selection import train_test_split\n",
    "from sklearn import metrics as mtr\n",
    "\n",
    "import operator\n",
    "import pickle\n",
    "import xgboost as xgb\n",
    "from xgboost import plot_importance\n",
    "from sklearn.metrics import roc_curve, auc, recall_score, precision_score\n",
    "\n",
    "np.random.seed(20160614)\n",
    "tf.set_random_seed(20160614)"
   ]
  },
  {
   "cell_type": "code",
   "execution_count": 2,
   "metadata": {},
   "outputs": [
    {
     "data": {
      "text/html": [
       "<style>.container { width:95% !important; }</style>"
      ],
      "text/plain": [
       "<IPython.core.display.HTML object>"
      ]
     },
     "metadata": {},
     "output_type": "display_data"
    }
   ],
   "source": [
    "#snssns..set_styleset_sty ('whitegrid')\n",
    "%matplotlib inline\n",
    "\n",
    "pd.set_option(\"display.max_columns\", 200) # 表示カラムの最大値\n",
    "pd.set_option('display.max_rows', 200) # 表示行数の最大値\n",
    "pd.set_option('display.max_colwidth', 30)\n",
    "pd.set_option(\"display.float_format\", '{:.3f}'.format) # 小数点以下の有効数字\n",
    "\n",
    "# jupyterの幅を自動調整\n",
    "from IPython.core.display import display, HTML\n",
    "display(HTML(\"<style>.container { width:95% !important; }</style>\"))"
   ]
  },
  {
   "cell_type": "markdown",
   "metadata": {},
   "source": [
    "### データ読み込み"
   ]
  },
  {
   "cell_type": "code",
   "execution_count": 3,
   "metadata": {
    "collapsed": true
   },
   "outputs": [],
   "source": [
    "df = pd.read_csv('../01.data/02.train/data_2013_2017.csv', index_col=0)"
   ]
  },
  {
   "cell_type": "code",
   "execution_count": 4,
   "metadata": {
    "collapsed": true
   },
   "outputs": [],
   "source": [
    "# 学習データと検証データに分割\n",
    "X_train, X_valid, y_train, y_valid = train_test_split(df.iloc[:, 1:df.shape[1]], \n",
    "                                                    df['target'], \n",
    "                                                    test_size=0.3, \n",
    "                                                    random_state=100)"
   ]
  },
  {
   "cell_type": "code",
   "execution_count": 5,
   "metadata": {},
   "outputs": [
    {
     "name": "stdout",
     "output_type": "stream",
     "text": [
      "train data || Correct Data Rate : 0.175234, Length of data: 856\n",
      "valid data || Correct Data Rate : 0.185286, Length of data: 367\n"
     ]
    }
   ],
   "source": [
    "# 学習データと検証データの正解含有率とレコード件数\n",
    "print ('train data || Correct Data Rate : %f, Length of data: %i' % (y_train.sum()/len(y_train), len(y_train)))\n",
    "print ('valid data || Correct Data Rate : %f, Length of data: %i' % (y_valid.sum()/len(y_valid), len(y_valid)))"
   ]
  },
  {
   "cell_type": "code",
   "execution_count": 6,
   "metadata": {
    "collapsed": true
   },
   "outputs": [],
   "source": [
    "# 変数マップを作成する\n",
    "def create_feature_map(features, map_file):\n",
    "    outfile = open(map_file, 'w')\n",
    "    i = 0\n",
    "    for feat in features:\n",
    "        outfile.write('{0}\\t{1}\\tq\\n'.format(i, feat))\n",
    "        i = i + 1\n",
    "\n",
    "    outfile.close()"
   ]
  },
  {
   "cell_type": "code",
   "execution_count": 19,
   "metadata": {
    "collapsed": true
   },
   "outputs": [],
   "source": [
    "# 説明変数\n",
    "explanatory_colums = ['wd_Monday',\t'wd_Thursday',\t'wd_Wednesday',\t'wd_Thursday',\t'wd_Friday',\t'up_flg',\t\n",
    "              'down_flg',\t'up_cnt_rolling5_0.0',\t'up_cnt_rolling5_1.0',\t'up_cnt_rolling5_2.0',\t'up_cnt_rolling5_3.0',\t\n",
    "              'up_cnt_rolling5_4.0',\t'up_cnt_rolling5_5.0',\t'up_must_length',\t'down_must_length',\t'box_length',\t'RCI9_p',\n",
    "              'RCI9_m',\t'RCI9_slope_p',\t'RCI9_slope_m',\t'RSI',\t'RSI_slope',\t'cross_25_50_-1',\t'cross_25_50_1',\t'cross_25_75_-1',\n",
    "              'cross_25_75_1',\t'cross_50_75_-1',\t'cross_50_75_1',\t'MA25_slope_p',\t'MA25_slope_m',\t'MA50_slope_p',\t'MA50_slope_m',\n",
    "              'MA75_slope_p',\t'MA75_slope_m',\t'MA25_dev_p',\t'MA25_dev_m',\t'BLGR_sigma_p_dev_p',\t'BLGR_sigma_p_dev_m',\n",
    "              'BLGR_2sigma_p_dev_p',\t'BLGR_2sigma_p_dev_m',\t'BLGR_sigma_m_dev_p',\t'BLGR_sigma_m_dev_m',\t'BLGR_2sigma_m_dev_p',\n",
    "              'BLGR_2sigma_m_dev_m']"
   ]
  },
  {
   "cell_type": "code",
   "execution_count": 20,
   "metadata": {
    "collapsed": true
   },
   "outputs": [],
   "source": [
    "# 説明変数のfeature mapを作成\n",
    "map_file = '10.fmap/xgb.ver.0.1.fmap'\n",
    "create_feature_map(explanatory_colums, map_file)"
   ]
  },
  {
   "cell_type": "markdown",
   "metadata": {},
   "source": [
    "### モデル定義"
   ]
  },
  {
   "cell_type": "code",
   "execution_count": 9,
   "metadata": {
    "collapsed": true
   },
   "outputs": [],
   "source": [
    "# parameters setting\n",
    "# n_estimators and early_stopping_rounds should be increased\n",
    "model = xgb.XGBClassifier(missing=np.nan, \n",
    "                        max_depth=7, # Maximum delta step we allow each tree’s weight estimation to be.\n",
    "                        n_estimators=300, # Number of boosted trees to fit\n",
    "                        learning_rate=0.05, \n",
    "                        subsample=1, \n",
    "                        colsample_bytree=0.9, \n",
    "                        seed=2100,\n",
    "                        objective= 'binary:logistic')"
   ]
  },
  {
   "cell_type": "code",
   "execution_count": 10,
   "metadata": {},
   "outputs": [
    {
     "name": "stdout",
     "output_type": "stream",
     "text": [
      "[0]\tvalidation_0-logloss:0.672533\n",
      "Will train until validation_0-logloss hasn't improved in 35 rounds.\n",
      "[1]\tvalidation_0-logloss:0.655815\n",
      "[2]\tvalidation_0-logloss:0.639621\n",
      "[3]\tvalidation_0-logloss:0.624144\n",
      "[4]\tvalidation_0-logloss:0.6091\n",
      "[5]\tvalidation_0-logloss:0.598187\n",
      "[6]\tvalidation_0-logloss:0.586243\n",
      "[7]\tvalidation_0-logloss:0.576043\n",
      "[8]\tvalidation_0-logloss:0.566968\n",
      "[9]\tvalidation_0-logloss:0.559288\n",
      "[10]\tvalidation_0-logloss:0.552758\n",
      "[11]\tvalidation_0-logloss:0.544274\n",
      "[12]\tvalidation_0-logloss:0.537088\n",
      "[13]\tvalidation_0-logloss:0.531669\n",
      "[14]\tvalidation_0-logloss:0.525779\n",
      "[15]\tvalidation_0-logloss:0.521022\n",
      "[16]\tvalidation_0-logloss:0.515306\n",
      "[17]\tvalidation_0-logloss:0.5104\n",
      "[18]\tvalidation_0-logloss:0.507182\n",
      "[19]\tvalidation_0-logloss:0.504924\n",
      "[20]\tvalidation_0-logloss:0.502692\n",
      "[21]\tvalidation_0-logloss:0.499349\n",
      "[22]\tvalidation_0-logloss:0.496507\n",
      "[23]\tvalidation_0-logloss:0.49344\n",
      "[24]\tvalidation_0-logloss:0.490751\n",
      "[25]\tvalidation_0-logloss:0.488937\n",
      "[26]\tvalidation_0-logloss:0.487007\n",
      "[27]\tvalidation_0-logloss:0.485466\n",
      "[28]\tvalidation_0-logloss:0.483956\n",
      "[29]\tvalidation_0-logloss:0.482663\n",
      "[30]\tvalidation_0-logloss:0.482065\n",
      "[31]\tvalidation_0-logloss:0.480072\n",
      "[32]\tvalidation_0-logloss:0.479353\n",
      "[33]\tvalidation_0-logloss:0.477739\n",
      "[34]\tvalidation_0-logloss:0.475481\n",
      "[35]\tvalidation_0-logloss:0.474987\n",
      "[36]\tvalidation_0-logloss:0.472611\n",
      "[37]\tvalidation_0-logloss:0.47122\n",
      "[38]\tvalidation_0-logloss:0.470967\n",
      "[39]\tvalidation_0-logloss:0.469777\n",
      "[40]\tvalidation_0-logloss:0.469407\n",
      "[41]\tvalidation_0-logloss:0.469044\n",
      "[42]\tvalidation_0-logloss:0.467797\n",
      "[43]\tvalidation_0-logloss:0.466794\n",
      "[44]\tvalidation_0-logloss:0.466036\n",
      "[45]\tvalidation_0-logloss:0.464847\n",
      "[46]\tvalidation_0-logloss:0.463645\n",
      "[47]\tvalidation_0-logloss:0.464513\n",
      "[48]\tvalidation_0-logloss:0.463171\n",
      "[49]\tvalidation_0-logloss:0.462202\n",
      "[50]\tvalidation_0-logloss:0.461944\n",
      "[51]\tvalidation_0-logloss:0.462266\n",
      "[52]\tvalidation_0-logloss:0.46208\n",
      "[53]\tvalidation_0-logloss:0.462924\n",
      "[54]\tvalidation_0-logloss:0.463485\n",
      "[55]\tvalidation_0-logloss:0.462555\n",
      "[56]\tvalidation_0-logloss:0.461817\n",
      "[57]\tvalidation_0-logloss:0.461752\n",
      "[58]\tvalidation_0-logloss:0.461303\n",
      "[59]\tvalidation_0-logloss:0.460837\n",
      "[60]\tvalidation_0-logloss:0.461337\n",
      "[61]\tvalidation_0-logloss:0.461153\n",
      "[62]\tvalidation_0-logloss:0.461364\n",
      "[63]\tvalidation_0-logloss:0.460997\n",
      "[64]\tvalidation_0-logloss:0.460728\n",
      "[65]\tvalidation_0-logloss:0.461052\n",
      "[66]\tvalidation_0-logloss:0.461395\n",
      "[67]\tvalidation_0-logloss:0.461003\n",
      "[68]\tvalidation_0-logloss:0.461702\n",
      "[69]\tvalidation_0-logloss:0.461676\n",
      "[70]\tvalidation_0-logloss:0.461811\n",
      "[71]\tvalidation_0-logloss:0.461913\n",
      "[72]\tvalidation_0-logloss:0.461241\n",
      "[73]\tvalidation_0-logloss:0.461189\n",
      "[74]\tvalidation_0-logloss:0.462584\n",
      "[75]\tvalidation_0-logloss:0.462929\n",
      "[76]\tvalidation_0-logloss:0.464361\n",
      "[77]\tvalidation_0-logloss:0.46372\n",
      "[78]\tvalidation_0-logloss:0.463637\n",
      "[79]\tvalidation_0-logloss:0.46381\n",
      "[80]\tvalidation_0-logloss:0.464288\n",
      "[81]\tvalidation_0-logloss:0.463891\n",
      "[82]\tvalidation_0-logloss:0.463915\n",
      "[83]\tvalidation_0-logloss:0.463875\n",
      "[84]\tvalidation_0-logloss:0.464719\n",
      "[85]\tvalidation_0-logloss:0.464997\n",
      "[86]\tvalidation_0-logloss:0.465844\n",
      "[87]\tvalidation_0-logloss:0.466328\n",
      "[88]\tvalidation_0-logloss:0.466699\n",
      "[89]\tvalidation_0-logloss:0.467786\n",
      "[90]\tvalidation_0-logloss:0.4678\n",
      "[91]\tvalidation_0-logloss:0.467977\n",
      "[92]\tvalidation_0-logloss:0.468841\n",
      "[93]\tvalidation_0-logloss:0.468888\n",
      "[94]\tvalidation_0-logloss:0.469609\n",
      "[95]\tvalidation_0-logloss:0.470965\n",
      "[96]\tvalidation_0-logloss:0.471088\n",
      "[97]\tvalidation_0-logloss:0.471271\n",
      "[98]\tvalidation_0-logloss:0.472469\n",
      "[99]\tvalidation_0-logloss:0.472866\n",
      "Stopping. Best iteration:\n",
      "[64]\tvalidation_0-logloss:0.460728\n",
      "\n"
     ]
    },
    {
     "data": {
      "text/plain": [
       "XGBClassifier(base_score=0.5, booster='gbtree', colsample_bylevel=1,\n",
       "       colsample_bytree=0.9, gamma=0, learning_rate=0.05, max_delta_step=0,\n",
       "       max_depth=7, min_child_weight=1, missing=None, n_estimators=300,\n",
       "       n_jobs=1, nthread=None, objective='binary:logistic', random_state=0,\n",
       "       reg_alpha=0, reg_lambda=1, scale_pos_weight=1, seed=2100,\n",
       "       silent=True, subsample=1)"
      ]
     },
     "execution_count": 10,
     "metadata": {},
     "output_type": "execute_result"
    }
   ],
   "source": [
    "# fitting\n",
    "model.fit(X_train, \n",
    "          y_train,  \n",
    "          early_stopping_rounds=35,  \n",
    "          eval_metric=\"logloss\", \n",
    "          eval_set=[(X_valid, y_valid)] # dataset to use validation for early-stopping \n",
    "         )"
   ]
  },
  {
   "cell_type": "markdown",
   "metadata": {
    "collapsed": true
   },
   "source": [
    "### モデル検証"
   ]
  },
  {
   "cell_type": "code",
   "execution_count": 11,
   "metadata": {
    "collapsed": true
   },
   "outputs": [],
   "source": [
    "# pred_probaのアウトプットには、1に分類される確率が配列の2つ目に格納される\n",
    "pred = model.predict_proba(X_valid)[:, 1]"
   ]
  },
  {
   "cell_type": "code",
   "execution_count": 12,
   "metadata": {},
   "outputs": [
    {
     "data": {
      "text/plain": [
       "0.47286641364536508"
      ]
     },
     "execution_count": 12,
     "metadata": {},
     "output_type": "execute_result"
    }
   ],
   "source": [
    "from  sklearn.metrics import log_loss\n",
    "logloss_valid = log_loss(y_valid, pred)\n",
    "logloss_valid"
   ]
  },
  {
   "cell_type": "code",
   "execution_count": 13,
   "metadata": {
    "collapsed": true
   },
   "outputs": [],
   "source": [
    "# ROC曲線用の変数作成\n",
    "fpr, tpr, thresholds = mtr.roc_curve(y_valid.values, pred)\n",
    "roc_auc = auc(fpr, tpr)"
   ]
  },
  {
   "cell_type": "code",
   "execution_count": 14,
   "metadata": {},
   "outputs": [
    {
     "data": {
      "image/png": "[encoded data removed]",
      "text/plain": [
       "<Figure size 500x300 with 1 Axes>"
      ]
     },
     "metadata": {},
     "output_type": "display_data"
    }
   ],
   "source": [
    "# ROC曲線を描画\n",
    "lw = 1\n",
    "plt.figure(figsize=(5,3),dpi=100)\n",
    "plt.plot(fpr, tpr, color = 'red', lw = lw, label='AUC = %0.4f' % roc_auc)\n",
    "plt.plot([0, 1], [0, 1], color='grey', lw=lw, linestyle='--')\n",
    "plt.xlim([0.0, 1.0])\n",
    "plt.ylim([0.0, 1.05])\n",
    "\n",
    "plt.title(\"ROC curve\")\n",
    "plt.xlabel(\"False Positive Rate\")\n",
    "plt.ylabel(\"True Positive Rate\")\n",
    "plt.legend(loc=\"lower right\")\n",
    "plt.show()"
   ]
  },
  {
   "cell_type": "markdown",
   "metadata": {},
   "source": [
    "### 重要変数"
   ]
  },
  {
   "cell_type": "code",
   "execution_count": 21,
   "metadata": {
    "collapsed": true
   },
   "outputs": [],
   "source": [
    "# weight : \n",
    "# gain :\n",
    "# cover :\n",
    "importance = model.get_booster().get_score(fmap=map_file, importance_type='gain')\n",
    "importance = sorted(importance.items(), key=operator.itemgetter(1))\n",
    "\n",
    "# dataframe化\n",
    "df_importance = pd.DataFrame(importance, columns=['features', 'score'])\n",
    "df_importance['score'] = df_importance['score'] / df_importance['score'].sum()"
   ]
  },
  {
   "cell_type": "code",
   "execution_count": 56,
   "metadata": {
    "scrolled": true
   },
   "outputs": [
    {
     "data": {
      "text/html": [
       "<div>\n",
       "<style>\n",
       "    .dataframe thead tr:only-child th {\n",
       "        text-align: right;\n",
       "    }\n",
       "\n",
       "    .dataframe thead th {\n",
       "        text-align: left;\n",
       "    }\n",
       "\n",
       "    .dataframe tbody tr th {\n",
       "        vertical-align: top;\n",
       "    }\n",
       "</style>\n",
       "<table border=\"1\" class=\"dataframe\">\n",
       "  <thead>\n",
       "    <tr style=\"text-align: right;\">\n",
       "      <th></th>\n",
       "      <th>features</th>\n",
       "      <th>score</th>\n",
       "    </tr>\n",
       "  </thead>\n",
       "  <tbody>\n",
       "    <tr>\n",
       "      <th>36</th>\n",
       "      <td>BLGR_2sigma_p_dev_m</td>\n",
       "      <td>0.038</td>\n",
       "    </tr>\n",
       "    <tr>\n",
       "      <th>35</th>\n",
       "      <td>BLGR_2sigma_m_dev_p</td>\n",
       "      <td>0.037</td>\n",
       "    </tr>\n",
       "    <tr>\n",
       "      <th>34</th>\n",
       "      <td>RSI</td>\n",
       "      <td>0.037</td>\n",
       "    </tr>\n",
       "    <tr>\n",
       "      <th>33</th>\n",
       "      <td>MA25_slope_m</td>\n",
       "      <td>0.036</td>\n",
       "    </tr>\n",
       "    <tr>\n",
       "      <th>32</th>\n",
       "      <td>MA50_slope_m</td>\n",
       "      <td>0.033</td>\n",
       "    </tr>\n",
       "    <tr>\n",
       "      <th>31</th>\n",
       "      <td>BLGR_sigma_m_dev_p</td>\n",
       "      <td>0.033</td>\n",
       "    </tr>\n",
       "    <tr>\n",
       "      <th>30</th>\n",
       "      <td>up_cnt_rolling5_1.0</td>\n",
       "      <td>0.033</td>\n",
       "    </tr>\n",
       "    <tr>\n",
       "      <th>29</th>\n",
       "      <td>up_cnt_rolling5_4.0</td>\n",
       "      <td>0.032</td>\n",
       "    </tr>\n",
       "    <tr>\n",
       "      <th>28</th>\n",
       "      <td>BLGR_sigma_p_dev_p</td>\n",
       "      <td>0.032</td>\n",
       "    </tr>\n",
       "    <tr>\n",
       "      <th>27</th>\n",
       "      <td>MA75_slope_m</td>\n",
       "      <td>0.031</td>\n",
       "    </tr>\n",
       "  </tbody>\n",
       "</table>\n",
       "</div>"
      ],
      "text/plain": [
       "               features  score\n",
       "36  BLGR_2sigma_p_dev_m  0.038\n",
       "35  BLGR_2sigma_m_dev_p  0.037\n",
       "34                  RSI  0.037\n",
       "33         MA25_slope_m  0.036\n",
       "32         MA50_slope_m  0.033\n",
       "31   BLGR_sigma_m_dev_p  0.033\n",
       "30  up_cnt_rolling5_1.0  0.033\n",
       "29  up_cnt_rolling5_4.0  0.032\n",
       "28   BLGR_sigma_p_dev_p  0.032\n",
       "27         MA75_slope_m  0.031"
      ]
     },
     "execution_count": 56,
     "metadata": {},
     "output_type": "execute_result"
    }
   ],
   "source": [
    "df_importance.sort_values('score', ascending=False).head(10)"
   ]
  },
  {
   "cell_type": "code",
   "execution_count": 28,
   "metadata": {
    "collapsed": true
   },
   "outputs": [],
   "source": [
    "df_importance.to_csv('02.output/03.XGB/xgb_importance.csv')"
   ]
  },
  {
   "cell_type": "code",
   "execution_count": 26,
   "metadata": {
    "scrolled": true
   },
   "outputs": [
    {
     "data": {
      "text/plain": [
       "<Figure size 432x288 with 0 Axes>"
      ]
     },
     "metadata": {},
     "output_type": "display_data"
    },
    {
     "data": {
      "image/png": "[encoded data removed]",
      "text/plain": [
       "<Figure size 720x1440 with 1 Axes>"
      ]
     },
     "metadata": {},
     "output_type": "display_data"
    }
   ],
   "source": [
    "# 重要度を可視化\n",
    "plt.figure()\n",
    "\n",
    "df_importance.plot(kind='barh', x='features', y='score', legend=False, figsize=(10,20))\n",
    "plt.title('XGBoost Feature Importance', fontsize = 10)\n",
    "plt.xlabel('relative importance')\n",
    "plt.tick_params(labelsize=10)\n",
    "plt.tight_layout()\n",
    "plt.gcf().savefig('./02.output/03.XGB/feature_importance_xgb.png')"
   ]
  },
  {
   "cell_type": "markdown",
   "metadata": {},
   "source": [
    "### 各変数の寄与可視化"
   ]
  },
  {
   "cell_type": "code",
   "execution_count": 33,
   "metadata": {
    "collapsed": true
   },
   "outputs": [],
   "source": [
    "# 検証用データ１行ごとに、変数の寄与を算出\n",
    "pred_cntrb = model.get_booster().predict(xgb.DMatrix(X_valid), pred_contribs=True)"
   ]
  },
  {
   "cell_type": "code",
   "execution_count": 36,
   "metadata": {
    "scrolled": false
   },
   "outputs": [],
   "source": [
    "# 変数名を取得\n",
    "cols =  model.get_booster().feature_names\n",
    "# \n",
    "df_contribution= pd.DataFrame({ cols[0] : X_valid[cols[0]],\n",
    "                  str(cols[0]) + '_contribution' : pred_cntrb[:, 0]  })\n",
    "\n",
    "for i in range(1, len(cols)):\n",
    "    df_contribution[ cols[i]] = X_valid[cols[i]]\n",
    "    df_contribution[ str(cols[i]) + '_contribution' ] = pred_cntrb[:, i]\n",
    "\n",
    "# すべての変数の寄与を可視化\n",
    "#for i in range(0, len(cols)):\n",
    "    #df_contribution.plot(kind='scatter', x=cols[i], y= cols[i] + '_contribution' , grid=True,  figsize=(15,4))\n",
    "    "
   ]
  },
  {
   "cell_type": "code",
   "execution_count": 54,
   "metadata": {},
   "outputs": [
    {
     "data": {
      "text/plain": [
       "<matplotlib.axes._subplots.AxesSubplot at 0x1288dc3c8>"
      ]
     },
     "execution_count": 54,
     "metadata": {},
     "output_type": "execute_result"
    },
    {
     "data": {
      "image/png": "[encoded data removed]",
      "text/plain": [
       "<Figure size 1080x288 with 1 Axes>"
      ]
     },
     "metadata": {},
     "output_type": "display_data"
    }
   ],
   "source": [
    "cotrb_var = 'BLGR_2sigma_m_dev_p'\n",
    "#cotrb_var = 'RSI'\n",
    "#cotrb_var =  'MA25_slope_m'\n",
    "#cotrb_var =  'MA50_slope_m'\n",
    "\n",
    "df_contribution.plot(kind='scatter', \n",
    "                     x= cotrb_var, \n",
    "                     y= cotrb_var + '_contribution', \n",
    "                     title = cotrb_var,\n",
    "                     grid=True, \n",
    "                     figsize=(15,4) )"
   ]
  },
  {
   "cell_type": "code",
   "execution_count": null,
   "metadata": {
    "collapsed": true
   },
   "outputs": [],
   "source": []
  }
 ],
 "metadata": {
  "kernelspec": {
   "display_name": "Python 3",
   "language": "python",
   "name": "python3"
  },
  "language_info": {
   "codemirror_mode": {
    "name": "ipython",
    "version": 3
   },
   "file_extension": ".py",
   "mimetype": "text/x-python",
   "name": "python",
   "nbconvert_exporter": "python",
   "pygments_lexer": "ipython3",
   "version": "3.6.1"
  }
 },
 "nbformat": 4,
 "nbformat_minor": 2
}
