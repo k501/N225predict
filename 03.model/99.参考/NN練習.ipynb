{
 "cells": [
  {
   "cell_type": "code",
   "execution_count": 1,
   "metadata": {
    "collapsed": true
   },
   "outputs": [],
   "source": [
    "import pandas as pd\n",
    "import matplotlib.pyplot as plt\n",
    "import numpy as np\n",
    "import tensorflow as tf\n",
    "from sklearn import datasets\n",
    "from IPython.display import Image, display_png"
   ]
  },
  {
   "cell_type": "code",
   "execution_count": 2,
   "metadata": {},
   "outputs": [
    {
     "data": {
      "text/html": [
       "<style>.container { width:90% !important; }</style>"
      ],
      "text/plain": [
       "<IPython.core.display.HTML object>"
      ]
     },
     "metadata": {},
     "output_type": "display_data"
    }
   ],
   "source": [
    "#snssns..set_styleset_sty ('whitegrid')\n",
    "%matplotlib inline\n",
    "\n",
    "pd.set_option(\"display.max_columns\", 200) # 表示カラムの最大値\n",
    "pd.set_option('display.max_rows', 200) # 表示行数の最大値\n",
    "pd.set_option('display.max_colwidth', 30)\n",
    "pd.set_option(\"display.float_format\", '{:.2f}'.format) # 小数点以下の有効数字\n",
    "\n",
    "# jupyterの幅を自動調整\n",
    "from IPython.core.display import display, HTML\n",
    "display(HTML(\"<style>.container { width:90% !important; }</style>\"))"
   ]
  },
  {
   "cell_type": "markdown",
   "metadata": {},
   "source": [
    "データ読み込み"
   ]
  },
  {
   "cell_type": "code",
   "execution_count": 3,
   "metadata": {
    "collapsed": true
   },
   "outputs": [],
   "source": [
    "iris = datasets.load_iris()\n",
    "# iris.data = [(がく片の長さ、がく片の幅、花びらの長さ、花びらの幅)]\n",
    "x_vals = np.array( [ x[0:3] for x in iris.data ])\n",
    "y_vals = np.array( [ x[3]  for x in iris.data])\n",
    "\n",
    "sess = tf.Session()"
   ]
  },
  {
   "cell_type": "code",
   "execution_count": 4,
   "metadata": {
    "collapsed": true
   },
   "outputs": [],
   "source": [
    "seed = 2\n",
    "tf.set_random_seed(seed)\n",
    "np.random.seed(seed)"
   ]
  },
  {
   "cell_type": "code",
   "execution_count": 5,
   "metadata": {
    "collapsed": true
   },
   "outputs": [],
   "source": [
    "# train / test　に分割\n",
    "train_indices = np.random.choice( len(x_vals),  round(len(x_vals) * 0.8), replace=False )\n",
    "test_indice = np.array( list(set(range(len(x_vals))) - set(train_indices)))\n",
    "\n",
    "x_vals_train = x_vals[train_indices]\n",
    "x_vals_test = x_vals[test_indice]\n",
    "\n",
    "y_vals_train = y_vals[train_indices]\n",
    "y_vals_test = y_vals[test_indice]"
   ]
  },
  {
   "cell_type": "code",
   "execution_count": 6,
   "metadata": {},
   "outputs": [
    {
     "data": {
      "text/plain": [
       "array([  6,   3, 113,  12,  24, 129,  25, 108, 128,  45,  48,  42,  35,\n",
       "         5,  85,  54,  41,  96, 144,  89,  77,  74, 115,  94,  87,  29,\n",
       "         2, 127,  44, 125, 126,  23,  64, 117,  84,  14, 132,  91,  53,\n",
       "       141,  78,  97, 143,  93,  11, 134,  28,  65,   0,  27,  36, 106,\n",
       "       148, 131,  20, 140, 136, 105, 119,  13,  30, 101,  99,  59, 135,\n",
       "       123,  71,  21,  55,  16, 114,  92,  98,  18,  81,  61,  86, 122,\n",
       "         1,  56,  19,  82, 120,   9,  60,  34,  40,  10, 112, 100,  26,\n",
       "        32, 146, 118,  62, 109,  57,  73, 147,  17, 130, 149, 111,   8,\n",
       "       121,  39,  49,  79, 139,  90, 133,  50,  76, 110,  52,  80,  66,\n",
       "       138,  83, 142])"
      ]
     },
     "execution_count": 6,
     "metadata": {},
     "output_type": "execute_result"
    }
   ],
   "source": [
    "train_indices"
   ]
  },
  {
   "cell_type": "markdown",
   "metadata": {},
   "source": [
    "min-maxスケーリングを使って特徴量を0〜1に正規化する"
   ]
  },
  {
   "cell_type": "code",
   "execution_count": 9,
   "metadata": {
    "collapsed": true
   },
   "outputs": [],
   "source": [
    "def normalize_cols(m) :\n",
    "    col_max = m.max(axis=0)\n",
    "    col_min = m.min(axis=0)\n",
    "    return ( m - col_min) / (col_max - col_min)\n"
   ]
  },
  {
   "cell_type": "code",
   "execution_count": 10,
   "metadata": {
    "collapsed": true
   },
   "outputs": [],
   "source": [
    "x_vals_train = np.nan_to_num( normalize_cols(x_vals_train) )\n",
    "x_vals_test = np.nan_to_num(normalize_cols(x_vals_test))"
   ]
  },
  {
   "cell_type": "markdown",
   "metadata": {},
   "source": [
    "バッチサイズを設定し、データと目的値のプレースホルダーを初期化する"
   ]
  },
  {
   "cell_type": "code",
   "execution_count": 11,
   "metadata": {
    "collapsed": true
   },
   "outputs": [],
   "source": [
    "batch_size = 50\n",
    "\n",
    "x_data = tf.placeholder(shape=[None, 3], dtype=tf.float32)\n",
    "y_target = tf.placeholder(shape=[None,1], dtype=tf.float32)"
   ]
  },
  {
   "cell_type": "markdown",
   "metadata": {},
   "source": [
    "ネットワーク作成"
   ]
  },
  {
   "cell_type": "code",
   "execution_count": 12,
   "metadata": {},
   "outputs": [
    {
     "data": {
      "image/png": "99.image/04_nn_layout.png"
     },
     "metadata": {},
     "output_type": "display_data"
    }
   ],
   "source": [
    "display_png(Image('99.image/04_nn_layout.png'))"
   ]
  },
  {
   "cell_type": "code",
   "execution_count": 13,
   "metadata": {
    "collapsed": true
   },
   "outputs": [],
   "source": [
    "hidden_layer_nodes = 5\n",
    "\n",
    "# 入力　から　隠れ層のノード\n",
    "A1 = tf.Variable(tf.random_normal(shape=[3, hidden_layer_nodes]))\n",
    "# 隠れ層のノードごとに１つのバイアス\n",
    "b1 = tf.Variable(tf.random_normal(shape=[hidden_layer_nodes]))\n",
    "#  隠れ層の入力　から　１つの出力\n",
    "A2 = tf.Variable(tf.random_normal(shape=[hidden_layer_nodes, 1]))\n",
    "# 出力のバイアス\n",
    "b2 = tf.Variable(tf.random_normal(shape=[1]))\n",
    "\n"
   ]
  },
  {
   "cell_type": "code",
   "execution_count": 14,
   "metadata": {
    "collapsed": true
   },
   "outputs": [],
   "source": [
    "# 隠れ層の出力を作成\n",
    "hidden_output = tf.nn.relu(tf.add(tf.matmul(x_data, A1),  b1) )\n",
    "# モデルの最終的な出力を作成\n",
    "final_output = tf.nn.relu( tf.add(tf.matmul(hidden_output, A2), b2 ))"
   ]
  },
  {
   "cell_type": "code",
   "execution_count": 15,
   "metadata": {
    "collapsed": true
   },
   "outputs": [],
   "source": [
    "# 平均二乗誤差\n",
    "loss = tf.reduce_mean(tf.square( y_target - final_output))"
   ]
  },
  {
   "cell_type": "code",
   "execution_count": 16,
   "metadata": {
    "collapsed": true
   },
   "outputs": [],
   "source": [
    "# 最適化関数\n",
    "my_opt = tf.train.GradientDescentOptimizer(0.005)\n",
    "train_step = my_opt.minimize(loss)"
   ]
  },
  {
   "cell_type": "code",
   "execution_count": 19,
   "metadata": {
    "scrolled": false
   },
   "outputs": [
    {
     "name": "stdout",
     "output_type": "stream",
     "text": [
      "Generation: 50 . Loss = 0.174362\n",
      "Generation: 100 . Loss = 0.195645\n",
      "Generation: 150 . Loss = 0.142711\n",
      "Generation: 200 . Loss = 0.147288\n",
      "Generation: 250 . Loss = 0.194719\n",
      "Generation: 300 . Loss = 0.135212\n",
      "Generation: 350 . Loss = 0.126367\n",
      "Generation: 400 . Loss = 0.120059\n",
      "Generation: 450 . Loss = 0.131284\n",
      "Generation: 500 . Loss = 0.124116\n"
     ]
    }
   ],
   "source": [
    "# 変数の初期化\n",
    "init = tf.global_variables_initializer()\n",
    "sess.run(init)\n",
    "\n",
    "loss_vec_train = []\n",
    "loss_vec_test = []\n",
    "\n",
    "for i in range(500) :\n",
    "    # バッチを選択するためのインデックスをランダムに選択\n",
    "    rand_index = np.random.choice(len(x_vals_train),  size=batch_size)\n",
    "    #  \n",
    "    rand_x = x_vals_train[rand_index]\n",
    "    rand_y = np.transpose([y_vals_train[rand_index]])\n",
    "    \n",
    "   # トレーニングステップを実行\n",
    "    sess.run( train_step, feed_dict={x_data: rand_x, y_target: rand_y})\n",
    "    \n",
    "    #　トレーニングセットの損失値を保存\n",
    "    temp_loss = sess.run(loss, feed_dict={x_data: rand_x, y_target: rand_y })\n",
    "    loss_vec_train.append(np.sqrt(temp_loss))\n",
    "    \n",
    "    # テストセットの損失値を保存\n",
    "    test_temp_loss = sess.run(loss, feed_dict={ x_data: x_vals_test, y_target: np.transpose([y_vals_test]) })\n",
    "    loss_vec_test.append(np.sqrt(test_temp_loss))\n",
    "    \n",
    "    if ( i + 1)%50 == 0:\n",
    "        print('Generation: ' + str(i+1) + ' . Loss = ' + str(temp_loss))\n",
    "    "
   ]
  },
  {
   "cell_type": "code",
   "execution_count": 97,
   "metadata": {},
   "outputs": [
    {
     "data": {
      "image/png": "[encoded data removed]",
      "text/plain": [
       "<matplotlib.figure.Figure at 0x128038320>"
      ]
     },
     "metadata": {},
     "output_type": "display_data"
    }
   ],
   "source": [
    "plt.plot(loss_vec_train, 'k-',  label='Train loss')\n",
    "plt.plot(loss_vec_test,  'r--',  label='Test loss' )\n",
    "plt.title('Loss (MSE ) per Generation')\n",
    "\n",
    "\n",
    "plt.show()\n"
   ]
  },
  {
   "cell_type": "code",
   "execution_count": null,
   "metadata": {
    "collapsed": true
   },
   "outputs": [],
   "source": []
  }
 ],
 "metadata": {
  "kernelspec": {
   "display_name": "Python 3",
   "language": "python",
   "name": "python3"
  },
  "language_info": {
   "codemirror_mode": {
    "name": "ipython",
    "version": 3
   },
   "file_extension": ".py",
   "mimetype": "text/x-python",
   "name": "python",
   "nbconvert_exporter": "python",
   "pygments_lexer": "ipython3",
   "version": "3.6.1"
  }
 },
 "nbformat": 4,
 "nbformat_minor": 2
}
