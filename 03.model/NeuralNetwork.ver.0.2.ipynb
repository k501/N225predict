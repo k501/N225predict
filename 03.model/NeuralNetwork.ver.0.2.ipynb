{
 "cells": [
  {
   "cell_type": "markdown",
   "metadata": {},
   "source": [
    "## ニューラルネットワーク"
   ]
  },
  {
   "cell_type": "code",
   "execution_count": 1,
   "metadata": {
    "collapsed": true
   },
   "outputs": [],
   "source": [
    "import tensorflow as tf\n",
    "import numpy as np\n",
    "import matplotlib.pyplot as plt\n",
    "from numpy.random import multivariate_normal, permutation\n",
    "import pandas as pd\n",
    "from pandas import DataFrame, Series\n",
    "from sklearn.model_selection import train_test_split\n",
    "\n",
    "np.random.seed(20160614)\n",
    "tf.set_random_seed(20160614)"
   ]
  },
  {
   "cell_type": "code",
   "execution_count": 2,
   "metadata": {},
   "outputs": [
    {
     "data": {
      "text/html": [
       "<style>.container { width:95% !important; }</style>"
      ],
      "text/plain": [
       "<IPython.core.display.HTML object>"
      ]
     },
     "metadata": {},
     "output_type": "display_data"
    }
   ],
   "source": [
    "#snssns..set_styleset_sty ('whitegrid')\n",
    "%matplotlib inline\n",
    "\n",
    "pd.set_option(\"display.max_columns\", 200) # 表示カラムの最大値\n",
    "pd.set_option('display.max_rows', 200) # 表示行数の最大値\n",
    "pd.set_option('display.max_colwidth', 30)\n",
    "pd.set_option(\"display.float_format\", '{:.3f}'.format) # 小数点以下の有効数字\n",
    "\n",
    "# jupyterの幅を自動調整\n",
    "from IPython.core.display import display, HTML\n",
    "display(HTML(\"<style>.container { width:95% !important; }</style>\"))"
   ]
  },
  {
   "cell_type": "markdown",
   "metadata": {},
   "source": [
    "### データ読み込み"
   ]
  },
  {
   "cell_type": "code",
   "execution_count": 3,
   "metadata": {
    "collapsed": true
   },
   "outputs": [],
   "source": [
    "df = pd.read_csv('../01.data/02.train/data_2011_2017.csv', index_col=0)"
   ]
  },
  {
   "cell_type": "code",
   "execution_count": 4,
   "metadata": {
    "collapsed": true
   },
   "outputs": [],
   "source": [
    "# 学習データと検証データに分割\n",
    "X_train, X_test, y_train, y_test = train_test_split(df.iloc[:, 1:df.shape[1]], \n",
    "                                                    df['target'], \n",
    "                                                    test_size=0.3, \n",
    "                                                    random_state=42)\n",
    "# TensorFlow用に変換\n",
    "X_train = X_train.as_matrix()\n",
    "y_train = y_train.as_matrix().reshape([len(y_train), 1])\n",
    "X_test = X_test.as_matrix()\n",
    "y_test = y_test.as_matrix().reshape([len(y_test), 1])"
   ]
  },
  {
   "cell_type": "markdown",
   "metadata": {},
   "source": [
    "### モデル定義"
   ]
  },
  {
   "cell_type": "code",
   "execution_count": 5,
   "metadata": {
    "collapsed": true
   },
   "outputs": [],
   "source": [
    "NUM_UNITS = 20 #　隠れ層のユニット数\n",
    "NUM_VARS = df.shape[1] - 1 # 説明変数の数\n",
    "mult = X_train.flatten().mean() # バイアスの初期値に利用する\n",
    "\n",
    "x = tf.placeholder(shape=[None, NUM_VARS], dtype=tf.float32) # 説明変数\n",
    "y = tf.placeholder(shape=[None,1], dtype=tf.float32) #目的変数"
   ]
  },
  {
   "cell_type": "code",
   "execution_count": 6,
   "metadata": {
    "collapsed": true
   },
   "outputs": [],
   "source": [
    "# 隠れ層を定義\n",
    "w1 = tf.Variable(tf.truncated_normal([NUM_VARS, NUM_UNITS]))\n",
    "b1 = tf.Variable(tf.zeros([NUM_UNITS]))\n",
    "hidden1 = tf.nn.tanh(tf.matmul(x, w1) + b1*mult)\n",
    "\n",
    "# 出力層を定義\n",
    "w0 = tf.Variable(tf.zeros([NUM_UNITS, 1]))\n",
    "b0 = tf.Variable(tf.zeros([1]))\n",
    "p = tf.nn.sigmoid(tf.matmul(hidden1, w0) + b0*mult)"
   ]
  },
  {
   "cell_type": "markdown",
   "metadata": {},
   "source": [
    "**[SNE-05]** 誤差関数 loss、トレーニングアルゴリズム train_step、正解率 accuracy を定義します。"
   ]
  },
  {
   "cell_type": "code",
   "execution_count": 7,
   "metadata": {
    "collapsed": true
   },
   "outputs": [],
   "source": [
    "loss = -tf.reduce_sum(y*tf.log(p) + (1-y)*tf.log(1-p))\n",
    "# 最適化関数\n",
    "train_step = tf.train.GradientDescentOptimizer(0.001).minimize(loss)\n",
    "# 正解率\n",
    "correct_prediction = tf.equal(tf.sign(p-0.5), tf.sign(y-0.5))\n",
    "accuracy = tf.reduce_mean(tf.cast(correct_prediction, tf.float32))"
   ]
  },
  {
   "cell_type": "markdown",
   "metadata": {},
   "source": [
    "**[SNE-06]** セッションを用意して、Variableを初期化します。"
   ]
  },
  {
   "cell_type": "code",
   "execution_count": 8,
   "metadata": {
    "collapsed": true
   },
   "outputs": [],
   "source": [
    "sess = tf.Session()"
   ]
  },
  {
   "cell_type": "markdown",
   "metadata": {},
   "source": [
    "**[SNE-07]** パラメーターの最適化を1000回繰り返します。"
   ]
  },
  {
   "cell_type": "code",
   "execution_count": 23,
   "metadata": {
    "scrolled": false
   },
   "outputs": [
    {
     "name": "stdout",
     "output_type": "stream",
     "text": [
      "Step: 100, Loss: 476.121948, Accuracy: 0.855611\n",
      "Step: 200, Loss: 462.707642, Accuracy: 0.855611\n",
      "Step: 300, Loss: 444.476135, Accuracy: 0.855611\n",
      "Step: 400, Loss: 452.298462, Accuracy: 0.854786\n",
      "Step: 500, Loss: 445.232605, Accuracy: 0.860561\n",
      "Step: 600, Loss: 438.476501, Accuracy: 0.863036\n",
      "Step: 700, Loss: 431.601257, Accuracy: 0.864686\n",
      "Step: 800, Loss: 424.908722, Accuracy: 0.871287\n",
      "Step: 900, Loss: 418.237549, Accuracy: 0.875413\n",
      "Step: 1000, Loss: 410.427307, Accuracy: 0.876238\n",
      "Step: 1100, Loss: 401.693237, Accuracy: 0.878713\n",
      "Step: 1200, Loss: 393.851379, Accuracy: 0.882013\n",
      "Step: 1300, Loss: 387.323090, Accuracy: 0.879538\n",
      "Step: 1400, Loss: 381.828339, Accuracy: 0.880363\n",
      "Step: 1500, Loss: 376.831329, Accuracy: 0.886139\n",
      "Step: 1600, Loss: 371.808105, Accuracy: 0.883663\n",
      "Step: 1700, Loss: 366.680115, Accuracy: 0.891914\n",
      "Step: 1800, Loss: 361.406372, Accuracy: 0.891089\n",
      "Step: 1900, Loss: 355.986908, Accuracy: 0.896865\n",
      "Step: 2000, Loss: 350.503113, Accuracy: 0.898515\n"
     ]
    }
   ],
   "source": [
    "# 変数の初期化\n",
    "init = tf.global_variables_initializer()\n",
    "sess.run(init)\n",
    "\n",
    "i = 0\n",
    "loss_vec_train = []\n",
    "loss_vec_test = []\n",
    "\n",
    "for _ in range(2000):\n",
    "    i += 1\n",
    "    sess.run(train_step, feed_dict={x: X_train, y: y_train})\n",
    "    \n",
    "    if i % 10 == 0:\n",
    "        #　トレーニングセットの損失値を保存\n",
    "        acc_val = sess.run( accuracy, feed_dict={x: X_train, y: y_train})\n",
    "        loss_vec_train.append(acc_val)        \n",
    "        # テストセットの損失値を保存\n",
    "        acc_val = sess.run( accuracy, feed_dict={x: X_test, y: y_test})\n",
    "        loss_vec_test.append(acc_val)\n",
    "    \n",
    "    if i % 100 == 0:\n",
    "        loss_val, acc_val = sess.run( [loss, accuracy], feed_dict={x: X_train, y: y_train})\n",
    "        print ('Step: %d, Loss: %f, Accuracy: %f' % (i, loss_val, acc_val))"
   ]
  },
  {
   "cell_type": "code",
   "execution_count": 25,
   "metadata": {},
   "outputs": [
    {
     "data": {
      "image/png": "[encoded data removed]",
      "text/plain": [
       "<Figure size 1296x288 with 1 Axes>"
      ]
     },
     "metadata": {},
     "output_type": "display_data"
    }
   ],
   "source": [
    "fig = plt.figure(figsize=(18, 4))\n",
    "ax = plt.subplot()\n",
    "\n",
    "plt.plot(loss_vec_train,   label='train accuracy')\n",
    "plt.plot(loss_vec_test,  'r--',  label='test accuracy' )\n",
    "plt.title('Loss (MSE ) per Generation')\n",
    "\n",
    "ax.grid() #グリッド表示\n",
    "fig.autofmt_xdate() #x軸のオートフォーマット\n",
    "plt.legend() # 凡例の表示\n",
    "plt.title('Accuracy per Generation')\n",
    "plt.show()"
   ]
  },
  {
   "cell_type": "code",
   "execution_count": null,
   "metadata": {
    "collapsed": true
   },
   "outputs": [],
   "source": []
  }
 ],
 "metadata": {
  "kernelspec": {
   "display_name": "Python 3",
   "language": "python",
   "name": "python3"
  },
  "language_info": {
   "codemirror_mode": {
    "name": "ipython",
    "version": 3
   },
   "file_extension": ".py",
   "mimetype": "text/x-python",
   "name": "python",
   "nbconvert_exporter": "python",
   "pygments_lexer": "ipython3",
   "version": "3.6.1"
  }
 },
 "nbformat": 4,
 "nbformat_minor": 1
}
