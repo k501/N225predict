{
 "cells": [
  {
   "cell_type": "code",
   "execution_count": 1,
   "metadata": {},
   "outputs": [],
   "source": [
    "#!/usr/bin/env python\n",
    "# -*- coding: utf-8 -*-"
   ]
  },
  {
   "cell_type": "code",
   "execution_count": 1,
   "metadata": {},
   "outputs": [],
   "source": [
    "import pandas as pd\n",
    "import codecs\n",
    "import numpy as np\n",
    "import matplotlib.pyplot as plt"
   ]
  },
  {
   "cell_type": "code",
   "execution_count": 2,
   "metadata": {},
   "outputs": [
    {
     "data": {
      "text/html": [
       "<style>.container { width:85% !important; }</style>"
      ],
      "text/plain": [
       "<IPython.core.display.HTML object>"
      ]
     },
     "metadata": {},
     "output_type": "display_data"
    }
   ],
   "source": [
    "#snssns..set_styleset_sty ('whitegrid')\n",
    "%matplotlib inline\n",
    "\n",
    "pd.set_option(\"display.max_columns\", 200) # 表示カラムの最大値\n",
    "pd.set_option('display.max_rows', 20) # 表示行数の最大値\n",
    "pd.set_option('display.max_colwidth', 30)\n",
    "pd.set_option(\"display.float_format\", '{:.2f}'.format) # 小数点以下の有効数字\n",
    "\n",
    "# jupyterの幅を自動調整\n",
    "from IPython.core.display import display, HTML\n",
    "display(HTML(\"<style>.container { width:85% !important; }</style>\"))"
   ]
  },
  {
   "cell_type": "code",
   "execution_count": 41,
   "metadata": {},
   "outputs": [],
   "source": [
    "with codecs.open(\"../01.data/cfd_result_2017.csv\", \"r\", \"Shift-JIS\", \"ignore\") as file:\n",
    "    data = pd.read_csv(file, header=2, parse_dates=True, dtype={'終値' : str} )\n",
    "    data = data.drop(columns=['商品名', 'Product', '前日清算価格', '当日清算価格', '金利相当額', '配当相当額', '取引数量', '建玉数量'], axis=1)\n",
    "    data.columns = ['trading_day', 'price_start', 'price_high', 'price_low', 'price_close', 'prise_end_diff_N1']\n",
    "\n",
    "data = data.set_index('trading_day')"
   ]
  },
  {
   "cell_type": "code",
   "execution_count": 42,
   "metadata": {},
   "outputs": [
    {
     "data": {
      "text/plain": [
       "price_start           object\n",
       "price_high            object\n",
       "price_low             object\n",
       "price_close           object\n",
       "prise_end_diff_N1    float64\n",
       "dtype: object"
      ]
     },
     "execution_count": 42,
     "metadata": {},
     "output_type": "execute_result"
    }
   ],
   "source": [
    "data.dtypes"
   ]
  },
  {
   "cell_type": "code",
   "execution_count": 37,
   "metadata": {},
   "outputs": [
    {
     "data": {
      "text/html": [
       "<div>\n",
       "<style scoped>\n",
       "    .dataframe tbody tr th:only-of-type {\n",
       "        vertical-align: middle;\n",
       "    }\n",
       "\n",
       "    .dataframe tbody tr th {\n",
       "        vertical-align: top;\n",
       "    }\n",
       "\n",
       "    .dataframe thead th {\n",
       "        text-align: right;\n",
       "    }\n",
       "</style>\n",
       "<table border=\"1\" class=\"dataframe\">\n",
       "  <thead>\n",
       "    <tr style=\"text-align: right;\">\n",
       "      <th></th>\n",
       "      <th>price_start</th>\n",
       "      <th>price_high</th>\n",
       "      <th>price_low</th>\n",
       "      <th>price_close</th>\n",
       "      <th>prise_end_diff_N1</th>\n",
       "    </tr>\n",
       "    <tr>\n",
       "      <th>trading_day</th>\n",
       "      <th></th>\n",
       "      <th></th>\n",
       "      <th></th>\n",
       "      <th></th>\n",
       "      <th></th>\n",
       "    </tr>\n",
       "  </thead>\n",
       "  <tbody>\n",
       "    <tr>\n",
       "      <th>2017-01-03</th>\n",
       "      <td>19,234</td>\n",
       "      <td>19,432</td>\n",
       "      <td>19,147</td>\n",
       "      <td>19,304</td>\n",
       "      <td>267.00</td>\n",
       "    </tr>\n",
       "    <tr>\n",
       "      <th>2017-01-04</th>\n",
       "      <td>19,310</td>\n",
       "      <td>19,678</td>\n",
       "      <td>19,268</td>\n",
       "      <td>19,647</td>\n",
       "      <td>334.00</td>\n",
       "    </tr>\n",
       "    <tr>\n",
       "      <th>2017-01-05</th>\n",
       "      <td>19,632</td>\n",
       "      <td>19,657</td>\n",
       "      <td>19,370</td>\n",
       "      <td>19,439</td>\n",
       "      <td>-208.00</td>\n",
       "    </tr>\n",
       "    <tr>\n",
       "      <th>2017-01-06</th>\n",
       "      <td>19,415</td>\n",
       "      <td>19,634</td>\n",
       "      <td>19,318</td>\n",
       "      <td>19,592</td>\n",
       "      <td>153.00</td>\n",
       "    </tr>\n",
       "    <tr>\n",
       "      <th>2017-01-09</th>\n",
       "      <td>19,585</td>\n",
       "      <td>19,709</td>\n",
       "      <td>19,415</td>\n",
       "      <td>19,445</td>\n",
       "      <td>-147.00</td>\n",
       "    </tr>\n",
       "    <tr>\n",
       "      <th>2017-01-10</th>\n",
       "      <td>19,441</td>\n",
       "      <td>19,495</td>\n",
       "      <td>19,250</td>\n",
       "      <td>19,330</td>\n",
       "      <td>-115.00</td>\n",
       "    </tr>\n",
       "    <tr>\n",
       "      <th>2017-01-11</th>\n",
       "      <td>19,365</td>\n",
       "      <td>19,518</td>\n",
       "      <td>19,133</td>\n",
       "      <td>19,350</td>\n",
       "      <td>20.00</td>\n",
       "    </tr>\n",
       "    <tr>\n",
       "      <th>2017-01-12</th>\n",
       "      <td>19,350</td>\n",
       "      <td>19,350</td>\n",
       "      <td>18,949</td>\n",
       "      <td>19,183</td>\n",
       "      <td>-167.00</td>\n",
       "    </tr>\n",
       "    <tr>\n",
       "      <th>2017-01-13</th>\n",
       "      <td>19,247</td>\n",
       "      <td>19,380</td>\n",
       "      <td>19,148</td>\n",
       "      <td>19,269</td>\n",
       "      <td>86.00</td>\n",
       "    </tr>\n",
       "    <tr>\n",
       "      <th>2017-01-16</th>\n",
       "      <td>19,239</td>\n",
       "      <td>19,251</td>\n",
       "      <td>19,039</td>\n",
       "      <td>19,055</td>\n",
       "      <td>-214.00</td>\n",
       "    </tr>\n",
       "    <tr>\n",
       "      <th>...</th>\n",
       "      <td>...</td>\n",
       "      <td>...</td>\n",
       "      <td>...</td>\n",
       "      <td>...</td>\n",
       "      <td>...</td>\n",
       "    </tr>\n",
       "    <tr>\n",
       "      <th>2017-12-18</th>\n",
       "      <td>22,852</td>\n",
       "      <td>23,050</td>\n",
       "      <td>22,794</td>\n",
       "      <td>23,016</td>\n",
       "      <td>275.00</td>\n",
       "    </tr>\n",
       "    <tr>\n",
       "      <th>2017-12-19</th>\n",
       "      <td>23,051</td>\n",
       "      <td>23,052</td>\n",
       "      <td>22,849</td>\n",
       "      <td>22,854</td>\n",
       "      <td>-152.00</td>\n",
       "    </tr>\n",
       "    <tr>\n",
       "      <th>2017-12-20</th>\n",
       "      <td>22,892</td>\n",
       "      <td>23,009</td>\n",
       "      <td>22,860</td>\n",
       "      <td>22,939</td>\n",
       "      <td>67.00</td>\n",
       "    </tr>\n",
       "    <tr>\n",
       "      <th>2017-12-21</th>\n",
       "      <td>22,925</td>\n",
       "      <td>23,027</td>\n",
       "      <td>22,784</td>\n",
       "      <td>22,930</td>\n",
       "      <td>-9.00</td>\n",
       "    </tr>\n",
       "    <tr>\n",
       "      <th>2017-12-22</th>\n",
       "      <td>22,924</td>\n",
       "      <td>22,998</td>\n",
       "      <td>22,862</td>\n",
       "      <td>22,965</td>\n",
       "      <td>35.00</td>\n",
       "    </tr>\n",
       "    <tr>\n",
       "      <th>2017-12-25</th>\n",
       "      <td>22,984</td>\n",
       "      <td>23,014</td>\n",
       "      <td>22,921</td>\n",
       "      <td>22,972</td>\n",
       "      <td>7.00</td>\n",
       "    </tr>\n",
       "    <tr>\n",
       "      <th>2017-12-26</th>\n",
       "      <td>22,980</td>\n",
       "      <td>23,010</td>\n",
       "      <td>22,921</td>\n",
       "      <td>22,986</td>\n",
       "      <td>14.00</td>\n",
       "    </tr>\n",
       "    <tr>\n",
       "      <th>2017-12-27</th>\n",
       "      <td>22,925</td>\n",
       "      <td>23,018</td>\n",
       "      <td>22,909</td>\n",
       "      <td>22,968</td>\n",
       "      <td>-18.00</td>\n",
       "    </tr>\n",
       "    <tr>\n",
       "      <th>2017-12-28</th>\n",
       "      <td>22,966</td>\n",
       "      <td>23,009</td>\n",
       "      <td>22,774</td>\n",
       "      <td>22,868</td>\n",
       "      <td>-100.00</td>\n",
       "    </tr>\n",
       "    <tr>\n",
       "      <th>2017-12-29</th>\n",
       "      <td>22,892</td>\n",
       "      <td>22,954</td>\n",
       "      <td>22,770</td>\n",
       "      <td>22,800</td>\n",
       "      <td>-68.00</td>\n",
       "    </tr>\n",
       "  </tbody>\n",
       "</table>\n",
       "<p>259 rows × 5 columns</p>\n",
       "</div>"
      ],
      "text/plain": [
       "            price_start price_high price_low price_close  prise_end_diff_N1\n",
       "trading_day                                                                \n",
       "2017-01-03       19,234     19,432    19,147      19,304             267.00\n",
       "2017-01-04       19,310     19,678    19,268      19,647             334.00\n",
       "2017-01-05       19,632     19,657    19,370      19,439            -208.00\n",
       "2017-01-06       19,415     19,634    19,318      19,592             153.00\n",
       "2017-01-09       19,585     19,709    19,415      19,445            -147.00\n",
       "2017-01-10       19,441     19,495    19,250      19,330            -115.00\n",
       "2017-01-11       19,365     19,518    19,133      19,350              20.00\n",
       "2017-01-12       19,350     19,350    18,949      19,183            -167.00\n",
       "2017-01-13       19,247     19,380    19,148      19,269              86.00\n",
       "2017-01-16       19,239     19,251    19,039      19,055            -214.00\n",
       "...                 ...        ...       ...         ...                ...\n",
       "2017-12-18       22,852     23,050    22,794      23,016             275.00\n",
       "2017-12-19       23,051     23,052    22,849      22,854            -152.00\n",
       "2017-12-20       22,892     23,009    22,860      22,939              67.00\n",
       "2017-12-21       22,925     23,027    22,784      22,930              -9.00\n",
       "2017-12-22       22,924     22,998    22,862      22,965              35.00\n",
       "2017-12-25       22,984     23,014    22,921      22,972               7.00\n",
       "2017-12-26       22,980     23,010    22,921      22,986              14.00\n",
       "2017-12-27       22,925     23,018    22,909      22,968             -18.00\n",
       "2017-12-28       22,966     23,009    22,774      22,868            -100.00\n",
       "2017-12-29       22,892     22,954    22,770      22,800             -68.00\n",
       "\n",
       "[259 rows x 5 columns]"
      ]
     },
     "execution_count": 37,
     "metadata": {},
     "output_type": "execute_result"
    }
   ],
   "source": [
    "data"
   ]
  },
  {
   "cell_type": "code",
   "execution_count": 40,
   "metadata": {},
   "outputs": [
    {
     "ename": "AttributeError",
     "evalue": "'DataFrame' object has no attribute 'str'",
     "output_type": "error",
     "traceback": [
      "\u001b[1;31m---------------------------------------------------------------------------\u001b[0m",
      "\u001b[1;31mAttributeError\u001b[0m                            Traceback (most recent call last)",
      "\u001b[1;32m<ipython-input-40-ec6ab29463ee>\u001b[0m in \u001b[0;36m<module>\u001b[1;34m()\u001b[0m\n\u001b[1;32m----> 1\u001b[1;33m \u001b[0mdata\u001b[0m\u001b[1;33m.\u001b[0m\u001b[0mstr\u001b[0m\u001b[1;33m.\u001b[0m\u001b[0mstrip\u001b[0m\u001b[1;33m(\u001b[0m\u001b[1;34m','\u001b[0m\u001b[1;33m)\u001b[0m\u001b[1;33m\u001b[0m\u001b[0m\n\u001b[0m",
      "\u001b[1;32m~\\AppData\\Local\\Continuum\\anaconda3\\lib\\site-packages\\pandas\\core\\generic.py\u001b[0m in \u001b[0;36m__getattr__\u001b[1;34m(self, name)\u001b[0m\n\u001b[0;32m   3612\u001b[0m             \u001b[1;32mif\u001b[0m \u001b[0mname\u001b[0m \u001b[1;32min\u001b[0m \u001b[0mself\u001b[0m\u001b[1;33m.\u001b[0m\u001b[0m_info_axis\u001b[0m\u001b[1;33m:\u001b[0m\u001b[1;33m\u001b[0m\u001b[0m\n\u001b[0;32m   3613\u001b[0m                 \u001b[1;32mreturn\u001b[0m \u001b[0mself\u001b[0m\u001b[1;33m[\u001b[0m\u001b[0mname\u001b[0m\u001b[1;33m]\u001b[0m\u001b[1;33m\u001b[0m\u001b[0m\n\u001b[1;32m-> 3614\u001b[1;33m             \u001b[1;32mreturn\u001b[0m \u001b[0mobject\u001b[0m\u001b[1;33m.\u001b[0m\u001b[0m__getattribute__\u001b[0m\u001b[1;33m(\u001b[0m\u001b[0mself\u001b[0m\u001b[1;33m,\u001b[0m \u001b[0mname\u001b[0m\u001b[1;33m)\u001b[0m\u001b[1;33m\u001b[0m\u001b[0m\n\u001b[0m\u001b[0;32m   3615\u001b[0m \u001b[1;33m\u001b[0m\u001b[0m\n\u001b[0;32m   3616\u001b[0m     \u001b[1;32mdef\u001b[0m \u001b[0m__setattr__\u001b[0m\u001b[1;33m(\u001b[0m\u001b[0mself\u001b[0m\u001b[1;33m,\u001b[0m \u001b[0mname\u001b[0m\u001b[1;33m,\u001b[0m \u001b[0mvalue\u001b[0m\u001b[1;33m)\u001b[0m\u001b[1;33m:\u001b[0m\u001b[1;33m\u001b[0m\u001b[0m\n",
      "\u001b[1;31mAttributeError\u001b[0m: 'DataFrame' object has no attribute 'str'"
     ]
    }
   ],
   "source": [
    "data.str.strip(',')"
   ]
  },
  {
   "cell_type": "code",
   "execution_count": 30,
   "metadata": {},
   "outputs": [
    {
     "data": {
      "text/plain": [
       "trading_day           object\n",
       "price_start           object\n",
       "price_high            object\n",
       "price_low             object\n",
       "price_close           object\n",
       "prise_end_diff_N1    float64\n",
       "dtype: object"
      ]
     },
     "execution_count": 30,
     "metadata": {},
     "output_type": "execute_result"
    }
   ],
   "source": [
    "data.dtypes"
   ]
  },
  {
   "cell_type": "markdown",
   "metadata": {},
   "source": [
    "## 移動平均"
   ]
  },
  {
   "cell_type": "code",
   "execution_count": 10,
   "metadata": {},
   "outputs": [],
   "source": [
    "MA_period = 25"
   ]
  },
  {
   "cell_type": "code",
   "execution_count": 15,
   "metadata": {},
   "outputs": [],
   "source": [
    "ma25 = data['prise_end_diff_N1'].rolling(4).mean()"
   ]
  },
  {
   "cell_type": "code",
   "execution_count": 16,
   "metadata": {},
   "outputs": [
    {
     "data": {
      "text/plain": [
       "0         nan\n",
       "1         nan\n",
       "2         nan\n",
       "3      136.50\n",
       "4       33.00\n",
       "5      -79.25\n",
       "6      -22.25\n",
       "7     -102.25\n",
       "8      -44.00\n",
       "9      -68.75\n",
       "        ...  \n",
       "249     23.25\n",
       "250     25.50\n",
       "251     74.50\n",
       "252     45.25\n",
       "253    -14.75\n",
       "254     25.00\n",
       "255     11.75\n",
       "256      9.50\n",
       "257    -24.25\n",
       "258    -43.00\n",
       "Name: prise_end_diff_N1, Length: 259, dtype: float64"
      ]
     },
     "execution_count": 16,
     "metadata": {},
     "output_type": "execute_result"
    }
   ],
   "source": [
    "ma25"
   ]
  },
  {
   "cell_type": "code",
   "execution_count": 122,
   "metadata": {},
   "outputs": [
    {
     "data": {
      "text/plain": [
       "0    nan\n",
       "1    nan\n",
       "2   1.00\n",
       "3   2.00\n",
       "4   3.00\n",
       "5   4.00\n",
       "6   5.00\n",
       "dtype: float64"
      ]
     },
     "execution_count": 122,
     "metadata": {},
     "output_type": "execute_result"
    }
   ],
   "source": [
    "s.rolling(window=3, min_periods=3).mean()"
   ]
  },
  {
   "cell_type": "code",
   "execution_count": null,
   "metadata": {},
   "outputs": [],
   "source": []
  }
 ],
 "metadata": {
  "kernelspec": {
   "display_name": "Python 3",
   "language": "python",
   "name": "python3"
  },
  "language_info": {
   "codemirror_mode": {
    "name": "ipython",
    "version": 3
   },
   "file_extension": ".py",
   "mimetype": "text/x-python",
   "name": "python",
   "nbconvert_exporter": "python",
   "pygments_lexer": "ipython3",
   "version": "3.6.4"
  }
 },
 "nbformat": 4,
 "nbformat_minor": 2
}
