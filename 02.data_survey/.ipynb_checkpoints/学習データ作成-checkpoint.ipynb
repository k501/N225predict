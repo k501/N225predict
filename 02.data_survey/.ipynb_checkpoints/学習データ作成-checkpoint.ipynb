{
 "cells": [
  {
   "cell_type": "code",
   "execution_count": 1,
   "metadata": {
    "collapsed": true
   },
   "outputs": [],
   "source": [
    "#!/usr/bin/env python\n",
    "# -*- coding: utf-8 -*-"
   ]
  },
  {
   "cell_type": "code",
   "execution_count": 2,
   "metadata": {
    "collapsed": true
   },
   "outputs": [],
   "source": [
    "import pandas as pd\n",
    "import codecs\n",
    "import numpy as np\n",
    "import matplotlib.pyplot as plt"
   ]
  },
  {
   "cell_type": "code",
   "execution_count": 9,
   "metadata": {},
   "outputs": [
    {
     "data": {
      "text/html": [
       "<style>.container { width:90% !important; }</style>"
      ],
      "text/plain": [
       "<IPython.core.display.HTML object>"
      ]
     },
     "metadata": {},
     "output_type": "display_data"
    }
   ],
   "source": [
    "#snssns..set_styleset_sty ('whitegrid')\n",
    "%matplotlib inline\n",
    "\n",
    "pd.set_option(\"display.max_columns\", 200) # 表示カラムの最大値\n",
    "pd.set_option('display.max_rows', 20) # 表示行数の最大値\n",
    "pd.set_option('display.max_colwidth', 30)\n",
    "pd.set_option(\"display.float_format\", '{:.2f}'.format) # 小数点以下の有効数字\n",
    "\n",
    "# jupyterの幅を自動調整\n",
    "from IPython.core.display import display, HTML\n",
    "display(HTML(\"<style>.container { width:90% !important; }</style>\"))"
   ]
  },
  {
   "cell_type": "markdown",
   "metadata": {},
   "source": [
    "### データ読み込み"
   ]
  },
  {
   "cell_type": "code",
   "execution_count": 63,
   "metadata": {},
   "outputs": [],
   "source": [
    "with codecs.open(\"../01.data/cfd_result_2017.csv\", \"r\", \"Shift-JIS\", \"ignore\") as file:\n",
    "    data = pd.read_csv(file, header=2, parse_dates=True, dtype={'終値' : str} )\n",
    "    # カラム名を設定\n",
    "    data.columns = ['xxx', 'yyy', \n",
    "                'trading_day', 'aaa','price_start', 'price_high',  'price_low', 'price_close', 'bbb',\n",
    "                'price_end_diff_N1', 'ccc', 'ddd', 'eee', 'fff']\n",
    "    #  カラムを除外する\n",
    "    data = data.drop(['xxx', 'yyy', 'aaa', 'bbb', 'ccc', 'ddd', 'eee', 'fff'], axis=1)\n",
    "\n",
    "data = data.set_index('trading_day')\n",
    "\n",
    "data['price_start'] = data['price_start'].str.replace(',', '').astype(int)\n",
    "data['price_high'] = data['price_high'].str.replace(',', '').astype(int)\n",
    "data['price_low'] = data['price_low'].str.replace(',', '').astype(int)\n",
    "data['price_close'] = data['price_close'].str.replace(',', '').astype(int)\n",
    "#data['price_end_diff_N1'] = data['price_end_diff_N1'].astype(float).astype('int')"
   ]
  },
  {
   "cell_type": "code",
   "execution_count": 64,
   "metadata": {},
   "outputs": [
    {
     "data": {
      "text/html": [
       "<div>\n",
       "<style>\n",
       "    .dataframe thead tr:only-child th {\n",
       "        text-align: right;\n",
       "    }\n",
       "\n",
       "    .dataframe thead th {\n",
       "        text-align: left;\n",
       "    }\n",
       "\n",
       "    .dataframe tbody tr th {\n",
       "        vertical-align: top;\n",
       "    }\n",
       "</style>\n",
       "<table border=\"1\" class=\"dataframe\">\n",
       "  <thead>\n",
       "    <tr style=\"text-align: right;\">\n",
       "      <th></th>\n",
       "      <th>price_start</th>\n",
       "      <th>price_high</th>\n",
       "      <th>price_low</th>\n",
       "      <th>price_close</th>\n",
       "      <th>price_end_diff_N1</th>\n",
       "    </tr>\n",
       "    <tr>\n",
       "      <th>trading_day</th>\n",
       "      <th></th>\n",
       "      <th></th>\n",
       "      <th></th>\n",
       "      <th></th>\n",
       "      <th></th>\n",
       "    </tr>\n",
       "  </thead>\n",
       "  <tbody>\n",
       "    <tr>\n",
       "      <th>2017-01-03</th>\n",
       "      <td>19234</td>\n",
       "      <td>19432</td>\n",
       "      <td>19147</td>\n",
       "      <td>19304</td>\n",
       "      <td>267.00</td>\n",
       "    </tr>\n",
       "    <tr>\n",
       "      <th>2017-01-04</th>\n",
       "      <td>19310</td>\n",
       "      <td>19678</td>\n",
       "      <td>19268</td>\n",
       "      <td>19647</td>\n",
       "      <td>334.00</td>\n",
       "    </tr>\n",
       "    <tr>\n",
       "      <th>2017-01-05</th>\n",
       "      <td>19632</td>\n",
       "      <td>19657</td>\n",
       "      <td>19370</td>\n",
       "      <td>19439</td>\n",
       "      <td>-208.00</td>\n",
       "    </tr>\n",
       "    <tr>\n",
       "      <th>2017-01-06</th>\n",
       "      <td>19415</td>\n",
       "      <td>19634</td>\n",
       "      <td>19318</td>\n",
       "      <td>19592</td>\n",
       "      <td>153.00</td>\n",
       "    </tr>\n",
       "    <tr>\n",
       "      <th>2017-01-09</th>\n",
       "      <td>19585</td>\n",
       "      <td>19709</td>\n",
       "      <td>19415</td>\n",
       "      <td>19445</td>\n",
       "      <td>-147.00</td>\n",
       "    </tr>\n",
       "  </tbody>\n",
       "</table>\n",
       "</div>"
      ],
      "text/plain": [
       "             price_start  price_high  price_low  price_close  \\\n",
       "trading_day                                                    \n",
       "2017-01-03         19234       19432      19147        19304   \n",
       "2017-01-04         19310       19678      19268        19647   \n",
       "2017-01-05         19632       19657      19370        19439   \n",
       "2017-01-06         19415       19634      19318        19592   \n",
       "2017-01-09         19585       19709      19415        19445   \n",
       "\n",
       "             price_end_diff_N1  \n",
       "trading_day                     \n",
       "2017-01-03              267.00  \n",
       "2017-01-04              334.00  \n",
       "2017-01-05             -208.00  \n",
       "2017-01-06              153.00  \n",
       "2017-01-09             -147.00  "
      ]
     },
     "execution_count": 64,
     "metadata": {},
     "output_type": "execute_result"
    }
   ],
   "source": [
    "data.head()"
   ]
  },
  {
   "cell_type": "code",
   "execution_count": 65,
   "metadata": {},
   "outputs": [
    {
     "data": {
      "text/plain": [
       "price_start            int64\n",
       "price_high             int64\n",
       "price_low              int64\n",
       "price_close            int64\n",
       "price_end_diff_N1    float64\n",
       "dtype: object"
      ]
     },
     "execution_count": 65,
     "metadata": {},
     "output_type": "execute_result"
    }
   ],
   "source": [
    "data.dtypes"
   ]
  },
  {
   "cell_type": "markdown",
   "metadata": {},
   "source": [
    "## 移動平均"
   ]
  },
  {
   "cell_type": "code",
   "execution_count": 70,
   "metadata": {},
   "outputs": [],
   "source": [
    "data['MA25'] = data['price_close'].rolling(25).mean()\n",
    "data['MA50'] = data['price_close'].rolling(50).mean()\n",
    "data['MA75'] = data['price_close'].rolling(75).mean()"
   ]
  },
  {
   "cell_type": "code",
   "execution_count": 72,
   "metadata": {},
   "outputs": [
    {
     "data": {
      "text/html": [
       "<div>\n",
       "<style>\n",
       "    .dataframe thead tr:only-child th {\n",
       "        text-align: right;\n",
       "    }\n",
       "\n",
       "    .dataframe thead th {\n",
       "        text-align: left;\n",
       "    }\n",
       "\n",
       "    .dataframe tbody tr th {\n",
       "        vertical-align: top;\n",
       "    }\n",
       "</style>\n",
       "<table border=\"1\" class=\"dataframe\">\n",
       "  <thead>\n",
       "    <tr style=\"text-align: right;\">\n",
       "      <th></th>\n",
       "      <th>price_start</th>\n",
       "      <th>price_high</th>\n",
       "      <th>price_low</th>\n",
       "      <th>price_close</th>\n",
       "      <th>price_end_diff_N1</th>\n",
       "      <th>MA25</th>\n",
       "      <th>MA50</th>\n",
       "      <th>MA75</th>\n",
       "    </tr>\n",
       "    <tr>\n",
       "      <th>trading_day</th>\n",
       "      <th></th>\n",
       "      <th></th>\n",
       "      <th></th>\n",
       "      <th></th>\n",
       "      <th></th>\n",
       "      <th></th>\n",
       "      <th></th>\n",
       "      <th></th>\n",
       "    </tr>\n",
       "  </thead>\n",
       "  <tbody>\n",
       "    <tr>\n",
       "      <th>2017-12-25</th>\n",
       "      <td>22984</td>\n",
       "      <td>23014</td>\n",
       "      <td>22921</td>\n",
       "      <td>22972</td>\n",
       "      <td>7.00</td>\n",
       "      <td>22731.96</td>\n",
       "      <td>22455.84</td>\n",
       "      <td>21797.75</td>\n",
       "    </tr>\n",
       "    <tr>\n",
       "      <th>2017-12-26</th>\n",
       "      <td>22980</td>\n",
       "      <td>23010</td>\n",
       "      <td>22921</td>\n",
       "      <td>22986</td>\n",
       "      <td>14.00</td>\n",
       "      <td>22744.16</td>\n",
       "      <td>22488.16</td>\n",
       "      <td>21839.45</td>\n",
       "    </tr>\n",
       "    <tr>\n",
       "      <th>2017-12-27</th>\n",
       "      <td>22925</td>\n",
       "      <td>23018</td>\n",
       "      <td>22909</td>\n",
       "      <td>22968</td>\n",
       "      <td>-18.00</td>\n",
       "      <td>22765.72</td>\n",
       "      <td>22518.56</td>\n",
       "      <td>21880.61</td>\n",
       "    </tr>\n",
       "    <tr>\n",
       "      <th>2017-12-28</th>\n",
       "      <td>22966</td>\n",
       "      <td>23009</td>\n",
       "      <td>22774</td>\n",
       "      <td>22868</td>\n",
       "      <td>-100.00</td>\n",
       "      <td>22782.60</td>\n",
       "      <td>22548.96</td>\n",
       "      <td>21920.60</td>\n",
       "    </tr>\n",
       "    <tr>\n",
       "      <th>2017-12-29</th>\n",
       "      <td>22892</td>\n",
       "      <td>22954</td>\n",
       "      <td>22770</td>\n",
       "      <td>22800</td>\n",
       "      <td>-68.00</td>\n",
       "      <td>22787.72</td>\n",
       "      <td>22573.98</td>\n",
       "      <td>21958.20</td>\n",
       "    </tr>\n",
       "  </tbody>\n",
       "</table>\n",
       "</div>"
      ],
      "text/plain": [
       "             price_start  price_high  price_low  price_close  \\\n",
       "trading_day                                                    \n",
       "2017-12-25         22984       23014      22921        22972   \n",
       "2017-12-26         22980       23010      22921        22986   \n",
       "2017-12-27         22925       23018      22909        22968   \n",
       "2017-12-28         22966       23009      22774        22868   \n",
       "2017-12-29         22892       22954      22770        22800   \n",
       "\n",
       "             price_end_diff_N1     MA25     MA50     MA75  \n",
       "trading_day                                                \n",
       "2017-12-25                7.00 22731.96 22455.84 21797.75  \n",
       "2017-12-26               14.00 22744.16 22488.16 21839.45  \n",
       "2017-12-27              -18.00 22765.72 22518.56 21880.61  \n",
       "2017-12-28             -100.00 22782.60 22548.96 21920.60  \n",
       "2017-12-29              -68.00 22787.72 22573.98 21958.20  "
      ]
     },
     "execution_count": 72,
     "metadata": {},
     "output_type": "execute_result"
    }
   ],
   "source": [
    "data.tail()"
   ]
  },
  {
   "cell_type": "code",
   "execution_count": null,
   "metadata": {
    "collapsed": true
   },
   "outputs": [],
   "source": []
  }
 ],
 "metadata": {
  "kernelspec": {
   "display_name": "Python 3",
   "language": "python",
   "name": "python3"
  },
  "language_info": {
   "codemirror_mode": {
    "name": "ipython",
    "version": 3
   },
   "file_extension": ".py",
   "mimetype": "text/x-python",
   "name": "python",
   "nbconvert_exporter": "python",
   "pygments_lexer": "ipython3",
   "version": "3.6.1"
  }
 },
 "nbformat": 4,
 "nbformat_minor": 2
}
